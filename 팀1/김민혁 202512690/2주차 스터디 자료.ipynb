{
 "cells": [
  {
   "cell_type": "markdown",
   "metadata": {},
   "source": [
    "## **튜플**"
   ]
  },
  {
   "cell_type": "markdown",
   "metadata": {},
   "source": [
    "### 1. 원소를 'A' 하나만 가지는 튜플을 생성하라."
   ]
  },
  {
   "cell_type": "code",
   "execution_count": 7,
   "metadata": {},
   "outputs": [],
   "source": [
    "# 답안 작성\n",
    "t1 =('A',)"
   ]
  },
  {
   "cell_type": "markdown",
   "metadata": {},
   "source": [
    "### 2. 오류가 발생한 이유를 튜플의 특징과 관련하여 설명하시오."
   ]
  },
  {
   "cell_type": "code",
   "execution_count": 8,
   "metadata": {},
   "outputs": [
    {
     "ename": "TypeError",
     "evalue": "'tuple' object does not support item assignment",
     "output_type": "error",
     "traceback": [
      "\u001b[31m---------------------------------------------------------------------------\u001b[39m",
      "\u001b[31mTypeError\u001b[39m                                 Traceback (most recent call last)",
      "\u001b[36mCell\u001b[39m\u001b[36m \u001b[39m\u001b[32mIn[8]\u001b[39m\u001b[32m, line 4\u001b[39m\n\u001b[32m      1\u001b[39m t = (\u001b[33m'\u001b[39m\u001b[33mA+\u001b[39m\u001b[33m'\u001b[39m, \u001b[33m'\u001b[39m\u001b[33mA0\u001b[39m\u001b[33m'\u001b[39m, \u001b[33m'\u001b[39m\u001b[33mA\u001b[39m\u001b[33m'\u001b[39m, \u001b[33m'\u001b[39m\u001b[33mB+\u001b[39m\u001b[33m'\u001b[39m, \u001b[33m'\u001b[39m\u001b[33mA+\u001b[39m\u001b[33m'\u001b[39m)\n\u001b[32m      2\u001b[39m \u001b[38;5;28mtype\u001b[39m(t)\n\u001b[32m----> \u001b[39m\u001b[32m4\u001b[39m \u001b[43mt\u001b[49m\u001b[43m[\u001b[49m\u001b[32;43m2\u001b[39;49m\u001b[43m]\u001b[49m = \u001b[33m'\u001b[39m\u001b[33mB\u001b[39m\u001b[33m'\u001b[39m\n",
      "\u001b[31mTypeError\u001b[39m: 'tuple' object does not support item assignment"
     ]
    }
   ],
   "source": [
    "t = ('A+', 'A0', 'A', 'B+', 'A+')\n",
    "type(t)\n",
    "\n",
    "t[2] = 'B'"
   ]
  },
  {
   "cell_type": "markdown",
   "metadata": {},
   "source": [
    "*여기에 답안 작성* : 튜플의 요솟값을 변경할 수 없기 때문이다."
   ]
  },
  {
   "cell_type": "markdown",
   "metadata": {},
   "source": [
    "### 3. 아래의 요소를 튜플로 생성하시오. <br>\n",
    "**20, 4.21, 데이터정보과학부**"
   ]
  },
  {
   "cell_type": "code",
   "execution_count": null,
   "metadata": {},
   "outputs": [],
   "source": [
    "# 답안 작성\n",
    "t1 = (20, 4.21, \"데이터정보과학부\")"
   ]
  },
  {
   "cell_type": "markdown",
   "metadata": {},
   "source": [
    "### 3-1. 위 튜플의 요소를 각각 age, grade, major 변수에 저장하고 출력하세요."
   ]
  },
  {
   "cell_type": "code",
   "execution_count": 17,
   "metadata": {},
   "outputs": [
    {
     "ename": "NameError",
     "evalue": "name 'age' is not defined",
     "output_type": "error",
     "traceback": [
      "\u001b[31m---------------------------------------------------------------------------\u001b[39m",
      "\u001b[31mNameError\u001b[39m                                 Traceback (most recent call last)",
      "\u001b[36mCell\u001b[39m\u001b[36m \u001b[39m\u001b[32mIn[17]\u001b[39m\u001b[32m, line 3\u001b[39m\n\u001b[32m      1\u001b[39m \u001b[38;5;66;03m# 답안 작성\u001b[39;00m\n\u001b[32m      2\u001b[39m t1 = (\u001b[32m20\u001b[39m, \u001b[32m4.21\u001b[39m, \u001b[33m\"\u001b[39m\u001b[33m데이터정보과학부\u001b[39m\u001b[33m\"\u001b[39m)\n\u001b[32m----> \u001b[39m\u001b[32m3\u001b[39m t1 = \u001b[43mage\u001b[49m, grade, major\n\u001b[32m      4\u001b[39m \u001b[38;5;28mprint\u001b[39m(\u001b[33m\"\u001b[39m\u001b[33mage:\u001b[39m\u001b[33m\"\u001b[39m, age)\n\u001b[32m      5\u001b[39m \u001b[38;5;28mprint\u001b[39m(\u001b[33m\"\u001b[39m\u001b[33mgrade:\u001b[39m\u001b[33m\"\u001b[39m, grade)\n",
      "\u001b[31mNameError\u001b[39m: name 'age' is not defined"
     ]
    }
   ],
   "source": [
    "# 답안 작성\n",
    "t1 = (20, 4.21, \"데이터정보과학부\")\n",
    "t1 = age, grade, major\n",
    "print(\"age:\", age)\n",
    "print(\"grade:\", grade)\n",
    "print(\"major:\", major)"
   ]
  },
  {
   "cell_type": "markdown",
   "metadata": {},
   "source": [
    "### 3-2. 위의 변수를 활용하여 다음의 문장을 생성하시오.\n",
    "**나는 __살이고 학점은 __이며 _______에 재학 중이다.**<Br>\n",
    "\\*조건: 학점은 소수점 첫째 자리까지만 표현. f-string 방식의 포매팅을 사용하여 위 문장을 생성할 것. "
   ]
  },
  {
   "cell_type": "code",
   "execution_count": 19,
   "metadata": {},
   "outputs": [
    {
     "name": "stdout",
     "output_type": "stream",
     "text": [
      "나는 20살이고 학점은 4.2이며 데이터정보과학부에 재학중이다.\n"
     ]
    }
   ],
   "source": [
    "# 답안 작성\n",
    "age = 20\n",
    "grade = 4.21\n",
    "major = \"데이터정보과학부\"\n",
    "a = f\"나는 {age}살이고 학점은 {grade:.1f}이며 {major}에 재학중이다.\"\n",
    "print(a)"
   ]
  },
  {
   "cell_type": "markdown",
   "metadata": {},
   "source": [
    "## **딕셔너리**"
   ]
  },
  {
   "cell_type": "markdown",
   "metadata": {},
   "source": [
    "### 1. 다음 표를 딕셔너리 형태로 구현하고 출력하시오. <br>\n",
    "|좌석|잔여석|\n",
    "|------|---|\n",
    "|VIP|0|\n",
    "|스탠딩|1|\n",
    "|지정석 S|1|\n",
    "|지정석 B|0|\n",
    "|지정석 R|2|"
   ]
  },
  {
   "cell_type": "code",
   "execution_count": null,
   "metadata": {},
   "outputs": [
    {
     "name": "stdout",
     "output_type": "stream",
     "text": [
      "{'VIP': 0, '스탠딩': 1, '지정석S': 1, '지정석B': 0, '지정석R': 2}\n"
     ]
    }
   ],
   "source": [
    "# 답안 작성\n",
    "dic = {\"VIP\" : 0, \"스탠딩\" : 1, \"지정석S\" : 1,\"지정석B\": 0, \"지정석R\" : 2}\n",
    "print(dic)"
   ]
  },
  {
   "cell_type": "markdown",
   "metadata": {},
   "source": [
    "### 1-1. 스탠딩 좌석이 매진되었다. 잔여석을 0으로 바꾸고 결과를 출력하시오."
   ]
  },
  {
   "cell_type": "code",
   "execution_count": null,
   "metadata": {},
   "outputs": [
    {
     "name": "stdout",
     "output_type": "stream",
     "text": [
      "{'VIP': 0, '스탠딩': 0, '지정석S': 1, '지정석B': 0, '지정석R': 2}\n"
     ]
    }
   ],
   "source": [
    "# 답안 작성\n",
    "dic[\"스탠딩\"] = 0\n",
    "print(dic)"
   ]
  },
  {
   "cell_type": "markdown",
   "metadata": {},
   "source": [
    "### 1-2. '지정석 A' 구역과 잔여석 3을 추가하여라."
   ]
  },
  {
   "cell_type": "code",
   "execution_count": null,
   "metadata": {},
   "outputs": [
    {
     "name": "stdout",
     "output_type": "stream",
     "text": [
      "{'VIP': 0, '스탠딩': 0, '지정석S': 1, '지정석B': 0, '지정석R': 2, '지정석A': 3}\n"
     ]
    }
   ],
   "source": [
    "# 답안 작성\n",
    "dic[\"지정석A\"] = 3\n",
    "print(dic)"
   ]
  },
  {
   "cell_type": "markdown",
   "metadata": {},
   "source": [
    "### 2. 다음은 좌표와 좌표에 대응하는 장소 이름이다.\n",
    "|X|Y|장소|\n",
    "|------|---|---|\n",
    "|35.1|29.47|도서관|\n",
    "|22.0|52.7|주택|\n",
    "|82.56|11.77|연구소|\n",
    "\n",
    "### 딕셔너리 형태를 만들되, Key: Value 양식이 **좌표: 장소**로 표현되도록 하시오. <br>\n",
    "\\* 힌트: 좌표는 튜플로 표현한다."
   ]
  },
  {
   "cell_type": "code",
   "execution_count": 10,
   "metadata": {},
   "outputs": [
    {
     "name": "stdout",
     "output_type": "stream",
     "text": [
      "{(35.1, 29.47): '도서관', (22.0, 52.7): '주택', (82.56, 11.77): '연구소'}\n"
     ]
    }
   ],
   "source": [
    "# 답안 작성\n",
    "dic = {(35.1,29.47) : \"도서관\", (22.0,52.7) : \"주택\", (82.56,11.77) : \"연구소\"}\n",
    "print(dic)"
   ]
  },
  {
   "cell_type": "markdown",
   "metadata": {},
   "source": [
    "## **집합**"
   ]
  },
  {
   "cell_type": "markdown",
   "metadata": {},
   "source": [
    "### 1. A는 쇼핑, 딸기, 바닐라 라떼를 좋아하고 B는 볼링, 참외, 자장면, 바닐라 라떼를 좋아한다. A가 좋아하는 것과 B가 좋아하는 것을 각각의 **집합**에 담아 표현하시오."
   ]
  },
  {
   "cell_type": "code",
   "execution_count": null,
   "metadata": {},
   "outputs": [],
   "source": [
    "# 답안 작성\n",
    "A = set([\"쇼핑\", \"딸기\", \"바닐라 라떼\"])\n",
    "B = set([\"볼링\", \"참외\", \"자장면\", \"바닐라 라떼\"])"
   ]
  },
  {
   "cell_type": "markdown",
   "metadata": {},
   "source": [
    "### 1-2. A와 B 두 명이 공통적으로 좋아하는 것들을 출력하시오. 단, 집합의 기능 중 하나를 이용하도록 한다."
   ]
  },
  {
   "cell_type": "code",
   "execution_count": null,
   "metadata": {},
   "outputs": [
    {
     "name": "stdout",
     "output_type": "stream",
     "text": [
      "{'바닐라 라떼'}\n"
     ]
    }
   ],
   "source": [
    "# 답안 작성\n",
    "print(A&B)"
   ]
  },
  {
   "cell_type": "markdown",
   "metadata": {},
   "source": [
    "### 1-3. B는 좋아하지 않고 A만 좋아하는 것들을 출력하시오. 단, 집합의 기능 중 하나를 이용하도록 한다."
   ]
  },
  {
   "cell_type": "code",
   "execution_count": null,
   "metadata": {},
   "outputs": [
    {
     "name": "stdout",
     "output_type": "stream",
     "text": [
      "{'딸기', '쇼핑'}\n"
     ]
    }
   ],
   "source": [
    "\n",
    "# 답안 작성\n",
    "print(A - B)"
   ]
  }
 ],
 "metadata": {
  "kernelspec": {
   "display_name": "Python 3",
   "language": "python",
   "name": "python3"
  },
  "language_info": {
   "codemirror_mode": {
    "name": "ipython",
    "version": 3
   },
   "file_extension": ".py",
   "mimetype": "text/x-python",
   "name": "python",
   "nbconvert_exporter": "python",
   "pygments_lexer": "ipython3",
   "version": "3.13.2"
  }
 },
 "nbformat": 4,
 "nbformat_minor": 2
}
